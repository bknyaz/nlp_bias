{
 "cells": [
  {
   "cell_type": "code",
   "execution_count": 1,
   "metadata": {},
   "outputs": [],
   "source": [
    "import torch\n",
    "from transformers import *  # pip install transformers  https://github.com/huggingface/transformers"
   ]
  },
  {
   "cell_type": "code",
   "execution_count": 2,
   "metadata": {},
   "outputs": [],
   "source": [
    "model_variant = 'bert-base-uncased'\n",
    "tokenizer = BertTokenizer.from_pretrained(model_variant)\n",
    "model = BertForMaskedLM.from_pretrained(model_variant)\n",
    "model.eval()\n",
    "\n",
    "def simple_tokenizer(s):\n",
    "    tokenized_text = s.replace(',', ' ,').split(' ')\n",
    "    tokenized_text = ['[CLS]'] + tokenized_text + ['.', '[SEP]']\n",
    "    return tokenized_text"
   ]
  },
  {
   "cell_type": "code",
   "execution_count": 3,
   "metadata": {},
   "outputs": [
    {
     "name": "stdout",
     "output_type": "stream",
     "text": [
      "special: 9.7\n",
      "popular: 9.4\n",
      "difficult: 9.0\n",
      "interesting: 8.9\n",
      "exciting: 8.6\n",
      "happy: 8.6\n",
      "important: 8.5\n",
      "prosperous: 8.4\n",
      "different: 8.4\n",
      "hard: 8.3\n",
      "successful: 8.3\n",
      "famous: 8.2\n",
      "clear: 8.1\n",
      "attractive: 8.1\n",
      "good: 8.0\n",
      "beautiful: 7.9\n",
      "warm: 7.7\n",
      "enjoyable: 7.7\n",
      "bright: 7.6\n",
      "easy: 7.6\n"
     ]
    }
   ],
   "source": [
    "def bert_example(s, topk=20):\n",
    "    tokenized_text = simple_tokenizer(s)  # tokenizer.tokenize(s) - not working well for some words for some reason\n",
    "    masked_index = tokenized_text.index('MASK')\n",
    "    tokenized_text[masked_index] = '[MASK]'\n",
    "    indexed_tokens = tokenizer.convert_tokens_to_ids(tokenized_text)\n",
    "    segments_tensors = [1] * len(tokenized_text)\n",
    "    #print('BERT input:', list(zip(tokenized_text, indexed_tokens, segments_tensors)))    \n",
    "    predictions = model(torch.tensor([indexed_tokens]), torch.tensor([segments_tensors]))[0].squeeze()\n",
    "    \n",
    "    predicted_index = torch.argsort(predictions[masked_index], descending=True)[:topk]\n",
    "    for i in range(len(predicted_index)):\n",
    "        ind = predicted_index[i].item()\n",
    "        print('{}: {:.1f}'.format(tokenizer.decode([ind]), predictions[masked_index, ind]))        \n",
    "    return \n",
    "\n",
    "bert_example('the pandemic made this year very MASK')"
   ]
  },
  {
   "cell_type": "code",
   "execution_count": null,
   "metadata": {},
   "outputs": [],
   "source": []
  }
 ],
 "metadata": {
  "kernelspec": {
   "display_name": "Python [conda env:ghn]",
   "language": "python",
   "name": "conda-env-ghn-py"
  },
  "language_info": {
   "codemirror_mode": {
    "name": "ipython",
    "version": 3
   },
   "file_extension": ".py",
   "mimetype": "text/x-python",
   "name": "python",
   "nbconvert_exporter": "python",
   "pygments_lexer": "ipython3",
   "version": "3.7.7"
  }
 },
 "nbformat": 4,
 "nbformat_minor": 2
}
